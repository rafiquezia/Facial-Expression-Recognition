{
  "cells": [
    {
      "cell_type": "code",
      "execution_count": 1,
      "metadata": {
        "id": "WT7y2ZKEr42I",
        "colab": {
          "base_uri": "https://localhost:8080/"
        },
        "outputId": "850dc4d9-53b2-4072-f04a-d5cbf8e2f5d7"
      },
      "outputs": [
        {
          "output_type": "stream",
          "name": "stdout",
          "text": [
            "Mounted at /content/drive/\n"
          ]
        }
      ],
      "source": [
        "from google.colab import drive\n",
        "drive.mount('/content/drive/')"
      ]
    },
    {
      "cell_type": "code",
      "execution_count": 2,
      "metadata": {
        "id": "4I0hQwmpsxWN"
      },
      "outputs": [],
      "source": [
        "#Importing the libraries\n",
        "import cv2\n",
        "import os\n",
        "import numpy as np\n",
        "import pandas as pd\n",
        "import matplotlib.pyplot as plt"
      ]
    },
    {
      "cell_type": "code",
      "execution_count": 3,
      "metadata": {
        "id": "cIHLQhEUs2Ce"
      },
      "outputs": [],
      "source": [
        "#Building a Function to import the data\n",
        "Data = []\n",
        "directory = '/content/drive/MyDrive/ColabNotebooks/Data1/FxR'\n",
        "img_size = 64\n",
        "#“angry (0)”, “disgust (1)”, “fear (2)”, “happy (3)”, “sad (4)”, “surprise (5)”, or “neutral (6)”\n",
        "Classes = ['0','1','2','3','4','5','6']\n",
        "\n",
        "def create_Data():\n",
        "    for category in Classes:\n",
        "      path = os.path.join(directory, category)\n",
        "      label = Classes.index(category)\n",
        "      for img in os.listdir(path):\n",
        "          try:\n",
        "              img_array = cv2.imread(os.path.join(path, img))\n",
        "              features = cv2.resize(img_array, (img_size , img_size))\n",
        "              Data.append([features, label])\n",
        "          except Exception as e:\n",
        "              pass"
      ]
    },
    {
      "cell_type": "code",
      "execution_count": 4,
      "metadata": {
        "id": "o1FgJB0nyrdR"
      },
      "outputs": [],
      "source": [
        " #Calling the function to load data\n",
        "create_Data()"
      ]
    },
    {
      "cell_type": "code",
      "execution_count": 14,
      "metadata": {
        "colab": {
          "base_uri": "https://localhost:8080/"
        },
        "id": "6M8TrpuU7iHf",
        "outputId": "ba17047d-a21b-4f36-943b-c4453be9cbe8"
      },
      "outputs": [
        {
          "output_type": "execute_result",
          "data": {
            "text/plain": [
              "(26195, 64, 64, 3)"
            ]
          },
          "metadata": {},
          "execution_count": 14
        }
      ],
      "source": [
        "#Separating the data into X (images) and y (labels)\n",
        "X = []\n",
        "y= []\n",
        "for features,label in Data:\n",
        "  X.append(features)\n",
        "  y.append(label)\n",
        "X = np.array(X).reshape(-1, img_size,img_size, 3)\n",
        "y = np.array(y)\n",
        "X.shape"
      ]
    },
    {
      "cell_type": "code",
      "execution_count": 15,
      "metadata": {
        "id": "tfYWcGePV0hq"
      },
      "outputs": [],
      "source": [
        "# Split your data into train and test sets\n",
        "from sklearn.model_selection import train_test_split\n",
        "X_train, X_test, y_train, y_test = train_test_split(X, y, test_size=0.2, random_state=42)"
      ]
    },
    {
      "cell_type": "code",
      "execution_count": 17,
      "metadata": {
        "colab": {
          "base_uri": "https://localhost:8080/"
        },
        "id": "TF8is4m6WK0Q",
        "outputId": "ba3aae9d-62eb-4f7a-aeff-952db745e5e9"
      },
      "outputs": [
        {
          "output_type": "execute_result",
          "data": {
            "text/plain": [
              "array([[[0.20784314, 0.15686275, 0.1254902 ],\n",
              "        [0.21176471, 0.15294118, 0.12941176],\n",
              "        [0.21568627, 0.15294118, 0.12941176],\n",
              "        ...,\n",
              "        [0.18431373, 0.13333333, 0.10980392],\n",
              "        [0.18823529, 0.13333333, 0.10980392],\n",
              "        [0.18431373, 0.12941176, 0.10588235]],\n",
              "\n",
              "       [[0.20784314, 0.15686275, 0.1254902 ],\n",
              "        [0.20784314, 0.15294118, 0.12941176],\n",
              "        [0.21176471, 0.15294118, 0.12941176],\n",
              "        ...,\n",
              "        [0.18039216, 0.1254902 , 0.10196078],\n",
              "        [0.19607843, 0.14117647, 0.11764706],\n",
              "        [0.19215686, 0.12941176, 0.10588235]],\n",
              "\n",
              "       [[0.21176471, 0.15686275, 0.1254902 ],\n",
              "        [0.20784314, 0.15686275, 0.12941176],\n",
              "        [0.20784314, 0.15294118, 0.12941176],\n",
              "        ...,\n",
              "        [0.18823529, 0.1372549 , 0.11372549],\n",
              "        [0.18431373, 0.1254902 , 0.10588235],\n",
              "        [0.19215686, 0.1254902 , 0.10588235]],\n",
              "\n",
              "       ...,\n",
              "\n",
              "       [[0.49019608, 0.74117647, 0.8627451 ],\n",
              "        [0.50980392, 0.75686275, 0.87843137],\n",
              "        [0.51764706, 0.75686275, 0.87843137],\n",
              "        ...,\n",
              "        [0.12941176, 0.20392157, 0.2745098 ],\n",
              "        [0.10196078, 0.17647059, 0.24313725],\n",
              "        [0.15686275, 0.22745098, 0.29411765]],\n",
              "\n",
              "       [[0.50980392, 0.77254902, 0.89803922],\n",
              "        [0.45882353, 0.71764706, 0.83921569],\n",
              "        [0.49411765, 0.74509804, 0.86666667],\n",
              "        ...,\n",
              "        [0.11372549, 0.18431373, 0.25098039],\n",
              "        [0.09019608, 0.16470588, 0.22745098],\n",
              "        [0.17647059, 0.24705882, 0.31372549]],\n",
              "\n",
              "       [[0.48235294, 0.75686275, 0.88627451],\n",
              "        [0.50980392, 0.77647059, 0.90588235],\n",
              "        [0.4745098 , 0.73333333, 0.85882353],\n",
              "        ...,\n",
              "        [0.10196078, 0.17647059, 0.23921569],\n",
              "        [0.07058824, 0.14509804, 0.20392157],\n",
              "        [0.14901961, 0.22352941, 0.28235294]]])"
            ]
          },
          "metadata": {},
          "execution_count": 17
        }
      ],
      "source": [
        "#Normalizing the data\n",
        "X_train_scaled = X_train / 255\n",
        "X_test_scaled = X_test/255\n",
        "X_train_scaled[0]"
      ]
    },
    {
      "cell_type": "code",
      "execution_count": 18,
      "metadata": {
        "id": "IGPFp8p5eSnm"
      },
      "outputs": [],
      "source": [
        "#Importing libraries\n",
        "import tensorflow as tf\n",
        "from tensorflow import keras\n",
        "from tensorflow.keras import datasets, layers, models\n",
        "\n",
        "#Building a model\n",
        "cnn = models.Sequential([\n",
        "    layers.Conv2D(filters = 20, kernel_size = (3,3), activation = 'relu', input_shape = (64,64,3)),\n",
        "    layers.MaxPooling2D((2,2)),\n",
        "    layers.Conv2D(filters = 35, kernel_size = (3,3), activation = 'relu'),\n",
        "    layers.MaxPooling2D((2,2)),\n",
        "     layers.Conv2D(filters = 35, kernel_size = (3,3), activation = 'relu'),\n",
        "    layers.MaxPooling2D((2,2)),\n",
        "    layers.Flatten(),\n",
        "    layers.Dense(128, activation = 'relu'),\n",
        "    layers.Dense(7, activation= 'softmax')\n",
        "])\n",
        "\n"
      ]
    },
    {
      "cell_type": "code",
      "execution_count": 19,
      "metadata": {
        "id": "uYZkwc3RxGwE"
      },
      "outputs": [],
      "source": [
        "#Compiling the model\n",
        "cnn.compile(optimizer='adam',\n",
        "              loss = 'sparse_categorical_crossentropy',\n",
        "              metrics = ['accuracy'])\n"
      ]
    },
    {
      "cell_type": "code",
      "execution_count": 20,
      "metadata": {
        "colab": {
          "base_uri": "https://localhost:8080/"
        },
        "id": "N3sxdKME-fXr",
        "outputId": "f50efbbb-e063-476b-b144-4c6da96d96c7"
      },
      "outputs": [
        {
          "output_type": "stream",
          "name": "stdout",
          "text": [
            "Epoch 1/10\n",
            "655/655 [==============================] - 21s 8ms/step - loss: 1.2990 - accuracy: 0.4628\n",
            "Epoch 2/10\n",
            "655/655 [==============================] - 3s 5ms/step - loss: 1.0508 - accuracy: 0.5789\n",
            "Epoch 3/10\n",
            "655/655 [==============================] - 3s 5ms/step - loss: 0.9614 - accuracy: 0.6211\n",
            "Epoch 4/10\n",
            "655/655 [==============================] - 3s 5ms/step - loss: 0.9015 - accuracy: 0.6436\n",
            "Epoch 5/10\n",
            "655/655 [==============================] - 4s 6ms/step - loss: 0.8560 - accuracy: 0.6617\n",
            "Epoch 6/10\n",
            "655/655 [==============================] - 3s 5ms/step - loss: 0.8018 - accuracy: 0.6883\n",
            "Epoch 7/10\n",
            "655/655 [==============================] - 3s 5ms/step - loss: 0.7545 - accuracy: 0.7073\n",
            "Epoch 8/10\n",
            "655/655 [==============================] - 3s 5ms/step - loss: 0.7114 - accuracy: 0.7257\n",
            "Epoch 9/10\n",
            "655/655 [==============================] - 4s 6ms/step - loss: 0.6619 - accuracy: 0.7466\n",
            "Epoch 10/10\n",
            "655/655 [==============================] - 3s 5ms/step - loss: 0.6093 - accuracy: 0.7673\n"
          ]
        },
        {
          "output_type": "execute_result",
          "data": {
            "text/plain": [
              "<keras.src.callbacks.History at 0x7f90404f8400>"
            ]
          },
          "metadata": {},
          "execution_count": 20
        }
      ],
      "source": [
        "#training the model\n",
        "cnn.fit(X_train_scaled, y_train, epochs =10)"
      ]
    },
    {
      "cell_type": "code",
      "execution_count": 44,
      "metadata": {
        "colab": {
          "base_uri": "https://localhost:8080/"
        },
        "id": "VU4bT8vHzyDX",
        "outputId": "82fcfb53-6007-4628-ac9f-84554540c48c"
      },
      "outputs": [
        {
          "output_type": "stream",
          "name": "stdout",
          "text": [
            "164/164 [==============================] - 0s 2ms/step\n"
          ]
        }
      ],
      "source": [
        "#Predictions using the model\n",
        "y_p = cnn.predict(X_test_scaled)\n",
        "y_pred =[np.argmax(x) for x in y_p]"
      ]
    },
    {
      "cell_type": "code",
      "execution_count": 37,
      "metadata": {
        "colab": {
          "base_uri": "https://localhost:8080/",
          "height": 467
        },
        "id": "rj_yymDez9az",
        "outputId": "bc011918-82bf-4782-dc81-86188c6b4fa0"
      },
      "outputs": [
        {
          "output_type": "stream",
          "name": "stdout",
          "text": [
            "3\n"
          ]
        },
        {
          "output_type": "execute_result",
          "data": {
            "text/plain": [
              "3"
            ]
          },
          "metadata": {},
          "execution_count": 37
        },
        {
          "output_type": "display_data",
          "data": {
            "text/plain": [
              "<Figure size 640x480 with 1 Axes>"
            ],
            "image/png": "[encoded data removed]"
          },
          "metadata": {}
        }
      ],
      "source": [
        "#Testing the model\n",
        "k = 178\n",
        "plt.imshow(X_test[k])\n",
        "print(np.argmax(y_p[k]))\n",
        "y_test[k]"
      ]
    },
    {
      "cell_type": "code",
      "execution_count": 38,
      "metadata": {
        "colab": {
          "base_uri": "https://localhost:8080/"
        },
        "id": "i2t5cblP0ZUx",
        "outputId": "f46a7077-65f4-4ee4-80f2-c9cf83c9bfe0"
      },
      "outputs": [
        {
          "output_type": "stream",
          "name": "stdout",
          "text": [
            "164/164 [==============================] - 1s 4ms/step - loss: 1.0807 - accuracy: 0.6142\n"
          ]
        },
        {
          "output_type": "execute_result",
          "data": {
            "text/plain": [
              "[1.0806858539581299, 0.6142393350601196]"
            ]
          },
          "metadata": {},
          "execution_count": 38
        }
      ],
      "source": [
        "#Evaluating the model\n",
        "cnn.evaluate(X_test_scaled, y_test)"
      ]
    },
    {
      "cell_type": "code",
      "source": [
        "#Classification Report\n",
        "from sklearn.metrics import classification_report\n",
        "report = classification_report(y_test, y_pred)\n",
        "print(report)"
      ],
      "metadata": {
        "colab": {
          "base_uri": "https://localhost:8080/"
        },
        "id": "MwSINbqaixi8",
        "outputId": "150b2f1d-6433-471f-b2b8-56755e5bb1c4"
      },
      "execution_count": 47,
      "outputs": [
        {
          "output_type": "stream",
          "name": "stdout",
          "text": [
            "              precision    recall  f1-score   support\n",
            "\n",
            "           0       0.43      0.59      0.50       635\n",
            "           1       0.43      0.43      0.43       521\n",
            "           2       0.45      0.41      0.43       620\n",
            "           3       0.91      0.83      0.87      1028\n",
            "           4       0.46      0.44      0.45       621\n",
            "           5       0.52      0.43      0.47       778\n",
            "           6       0.82      0.87      0.84      1036\n",
            "\n",
            "    accuracy                           0.61      5239\n",
            "   macro avg       0.57      0.57      0.57      5239\n",
            "weighted avg       0.62      0.61      0.61      5239\n",
            "\n"
          ]
        }
      ]
    }
  ],
  "metadata": {
    "accelerator": "GPU",
    "colab": {
      "provenance": []
    },
    "kernelspec": {
      "display_name": "Python 3",
      "name": "python3"
    },
    "language_info": {
      "name": "python"
    }
  },
  "nbformat": 4,
  "nbformat_minor": 0
}